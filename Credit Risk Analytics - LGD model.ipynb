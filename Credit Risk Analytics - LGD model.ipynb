{
 "cells": [
  {
   "cell_type": "markdown",
   "metadata": {},
   "source": [
    "### Data Cleaning and Preprocessing"
   ]
  },
  {
   "cell_type": "code",
   "execution_count": 1,
   "metadata": {},
   "outputs": [],
   "source": [
    "# General imports\n",
    "import pandas as pd\n",
    "import seaborn as sns\n",
    "import numpy as np"
   ]
  },
  {
   "cell_type": "code",
   "execution_count": 2,
   "metadata": {},
   "outputs": [
    {
     "data": {
      "text/plain": [
       "(2260701, 148)"
      ]
     },
     "execution_count": 2,
     "metadata": {},
     "output_type": "execute_result"
    }
   ],
   "source": [
    "# Load data\n",
    "LC_data = pd.read_csv(r'/Users/regina/Documents/UWO/Banking Analytics/LCFinal.csv', \n",
    "                      low_memory = False)\n",
    "LC_data.shape"
   ]
  },
  {
   "cell_type": "code",
   "execution_count": 3,
   "metadata": {},
   "outputs": [
    {
     "data": {
      "text/plain": [
       "(1130350, 148)"
      ]
     },
     "execution_count": 3,
     "metadata": {},
     "output_type": "execute_result"
    }
   ],
   "source": [
    "pd.set_option('display.max_rows', 500)\n",
    "pd.set_option('display.max_columns', 500)\n",
    "pd.set_option('display.width', 1000)\n",
    "\n",
    "# Sampling - 50%\n",
    "LC_data_smp = LC_data.sample(frac = 0.5, random_state = 1)\n",
    "LC_data_smp.shape"
   ]
  },
  {
   "cell_type": "code",
   "execution_count": 4,
   "metadata": {},
   "outputs": [],
   "source": [
    "# Find how many missing values in each variable (in each column)\n",
    "# Get the variable names if the variable has more than 25% missing values\n",
    "VblDrop = LC_data_smp.isnull().sum().index[LC_data_smp.isnull().sum()/len(LC_data_smp) > 0.25].tolist()\n",
    "\n",
    "LC_data_keep = LC_data_smp.drop(VblDrop, axis = 1)"
   ]
  },
  {
   "cell_type": "code",
   "execution_count": 5,
   "metadata": {},
   "outputs": [],
   "source": [
    "# Find how many missing values in each observation (in each row)\n",
    "# Drop the obervations that have missing values more than 25% (in each row)\n",
    "LC_data_keep.dropna(thresh=0.75*LC_data_keep.shape[1], inplace=True)"
   ]
  },
  {
   "cell_type": "code",
   "execution_count": 6,
   "metadata": {},
   "outputs": [
    {
     "data": {
      "text/plain": [
       "(1095184, 90)"
      ]
     },
     "execution_count": 6,
     "metadata": {},
     "output_type": "execute_result"
    }
   ],
   "source": [
    "LC_data_keep.shape"
   ]
  },
  {
   "cell_type": "code",
   "execution_count": 7,
   "metadata": {},
   "outputs": [],
   "source": [
    "# Detect and remove outliers\n",
    "Q1 = LC_data_keep.quantile(0.25)\n",
    "Q3 = LC_data_keep.quantile(0.75)\n",
    "IQR = Q3 - Q1\n",
    "LC_data_keep_out = LC_data_keep[~((LC_data_keep < (Q1 - 1.5 * IQR))|\n",
    "                                  (LC_data_keep > (Q3 + 1.5 * IQR))).any(axis=1)]"
   ]
  },
  {
   "cell_type": "code",
   "execution_count": 8,
   "metadata": {},
   "outputs": [
    {
     "data": {
      "text/plain": [
       "(160333, 90)"
      ]
     },
     "execution_count": 8,
     "metadata": {},
     "output_type": "execute_result"
    }
   ],
   "source": [
    "LC_data_keep_out.shape"
   ]
  },
  {
   "cell_type": "code",
   "execution_count": 9,
   "metadata": {},
   "outputs": [],
   "source": [
    "# Correlation\n",
    "c = LC_data_keep_out.corr().abs()\n",
    "\n",
    "# Select upper triangle of correlation matrix\n",
    "upper = c.where(np.triu(np.ones(c.shape), k=1).astype(np.bool))\n",
    "\n",
    "# Find index of feature columns with correlation greater than 0.7\n",
    "to_drop = [column for column in upper.columns if any(upper[column] > 0.7)]\n",
    "to_drop.remove('total_rec_prncp')\n",
    "\n",
    "LC_final = LC_data_keep_out.drop(LC_data_keep_out[to_drop], axis=1)"
   ]
  },
  {
   "cell_type": "code",
   "execution_count": 10,
   "metadata": {},
   "outputs": [],
   "source": [
    "# Drop the variables that do not provide predictive power\n",
    "to_drop2 = ['Unnamed: 0',\n",
    "            'id',\n",
    "            'emp_title',\n",
    "            'url',\n",
    "            'title',\n",
    "            'purpose',\n",
    "            'zip_code',\n",
    "            'addr_state',\n",
    "            'earliest_cr_line',\n",
    "            'initial_list_status',\n",
    "            'last_pymnt_d',\n",
    "            'last_credit_pull_d',\n",
    "            'disbursement_method']\n",
    "\n",
    "LC_use = LC_final.drop(LC_final[to_drop2], axis=1)"
   ]
  },
  {
   "cell_type": "code",
   "execution_count": 11,
   "metadata": {},
   "outputs": [],
   "source": [
    "# Fill missing value with median value\n",
    "LC_use.fillna(LC_use.median(), inplace = True)"
   ]
  },
  {
   "cell_type": "code",
   "execution_count": 12,
   "metadata": {},
   "outputs": [],
   "source": [
    "# Dummy Coding 1-default;0-good\n",
    "# 'term'\n",
    "def term(x):\n",
    "    if not(pd.isna(x)):\n",
    "        return int(x[1:3])\n",
    "    \n",
    "LC_use['term'] = LC_use.apply(lambda x: \n",
    "                              term(x['term']), axis = 1)"
   ]
  },
  {
   "cell_type": "code",
   "execution_count": 13,
   "metadata": {},
   "outputs": [
    {
     "data": {
      "text/plain": [
       "['n', 'y']"
      ]
     },
     "execution_count": 13,
     "metadata": {},
     "output_type": "execute_result"
    }
   ],
   "source": [
    "# 'pymnt_plan'\n",
    "pd.unique(LC_use['pymnt_plan'].values.ravel()).tolist()"
   ]
  },
  {
   "cell_type": "code",
   "execution_count": 14,
   "metadata": {},
   "outputs": [],
   "source": [
    "def pp(x):\n",
    "    if not(pd.isna(x)):\n",
    "        if x=='n':\n",
    "            a=1\n",
    "        else: a=0\n",
    "    return a\n",
    "\n",
    "LC_use['pymnt_plan'] = LC_use.apply(lambda x:\n",
    "                                    pp(x['pymnt_plan']), axis = 1)"
   ]
  },
  {
   "cell_type": "code",
   "execution_count": 15,
   "metadata": {},
   "outputs": [
    {
     "data": {
      "text/plain": [
       "['8 years',\n",
       " '3 years',\n",
       " nan,\n",
       " '10+ years',\n",
       " '< 1 year',\n",
       " '5 years',\n",
       " '9 years',\n",
       " '1 year',\n",
       " '4 years',\n",
       " '2 years',\n",
       " '6 years',\n",
       " '7 years']"
      ]
     },
     "execution_count": 15,
     "metadata": {},
     "output_type": "execute_result"
    }
   ],
   "source": [
    "# 'emp_length'\n",
    "pd.unique(LC_use['emp_length'].values.ravel()).tolist()"
   ]
  },
  {
   "cell_type": "code",
   "execution_count": 16,
   "metadata": {},
   "outputs": [],
   "source": [
    "def emp(x):\n",
    "    if not(pd.isna(x)):\n",
    "        if x=='< 1 year':\n",
    "            a=10\n",
    "        elif x=='1 year':\n",
    "            a=9\n",
    "        elif x=='2 years':\n",
    "            a=8\n",
    "        elif x=='3 years':\n",
    "            a=7\n",
    "        elif x=='4 years':\n",
    "            a=6\n",
    "        elif x=='5 years':\n",
    "            a=5\n",
    "        elif x=='6 years':\n",
    "            a=4\n",
    "        elif x=='7 years':\n",
    "            a=3\n",
    "        elif x=='8 years':\n",
    "            a=2\n",
    "        elif x=='9 years':\n",
    "            a=1    \n",
    "        else: a = 0\n",
    "        return a\n",
    "\n",
    "LC_use['emp_length'] = LC_use.apply(lambda x:\n",
    "                                    emp(x['emp_length']), axis = 1)\n",
    "LC_use['emp_length'].fillna(LC_use['emp_length'].mode()[0], inplace = True)"
   ]
  },
  {
   "cell_type": "code",
   "execution_count": 17,
   "metadata": {},
   "outputs": [
    {
     "data": {
      "text/plain": [
       "['RENT', 'MORTGAGE', 'OWN', 'ANY', 'OTHER', 'NONE']"
      ]
     },
     "execution_count": 17,
     "metadata": {},
     "output_type": "execute_result"
    }
   ],
   "source": [
    "# 'home_ownership'\n",
    "pd.unique(LC_use['home_ownership'].values.ravel()).tolist()"
   ]
  },
  {
   "cell_type": "code",
   "execution_count": 18,
   "metadata": {},
   "outputs": [],
   "source": [
    "def homeown(x):\n",
    "    if not(pd.isna(x)):\n",
    "        if x=='RENT':\n",
    "            a=3\n",
    "        elif x=='MORTGAGE':\n",
    "            a=2\n",
    "        elif x=='OWN':\n",
    "            a=1\n",
    "        else:\n",
    "            a=float('nan')\n",
    "        return a\n",
    "\n",
    "LC_use['home_ownership'] = LC_use.apply(lambda x:\n",
    "                                        homeown(x['home_ownership']), axis = 1)\n",
    "LC_use['home_ownership'].fillna(LC_use['home_ownership'].mode()[0], inplace = True)"
   ]
  },
  {
   "cell_type": "code",
   "execution_count": 19,
   "metadata": {},
   "outputs": [
    {
     "data": {
      "text/plain": [
       "['Current',\n",
       " 'Fully Paid',\n",
       " 'Charged Off',\n",
       " 'Late (16-30 days)',\n",
       " 'Late (31-120 days)',\n",
       " 'In Grace Period',\n",
       " 'Default']"
      ]
     },
     "execution_count": 19,
     "metadata": {},
     "output_type": "execute_result"
    }
   ],
   "source": [
    "# 'loan_status'\n",
    "LC_use = LC_use[(LC_use.issue_d!='Dec-2018')|\n",
    "                (LC_use.issue_d!='Nov-2018')|\n",
    "                (LC_use.issue_d!='Oct-2018')|\n",
    "                (LC_use.issue_d!='Sep-2018')|\n",
    "                (LC_use.issue_d!='Aug-2018')|\n",
    "                (LC_use.issue_d!='Jul-2018')|\n",
    "                (LC_use.issue_d!='Jun-2018')|\n",
    "                (LC_use.issue_d!='May-2018')|\n",
    "                (LC_use.issue_d!='Apr-2018')|\n",
    "                (LC_use.issue_d!='Mar-2018')|\n",
    "                (LC_use.issue_d!='Feb-2018')|\n",
    "                (LC_use.issue_d!='Jan-2018')]\n",
    "pd.unique(LC_use['loan_status'].values.ravel()).tolist()"
   ]
  },
  {
   "cell_type": "code",
   "execution_count": 20,
   "metadata": {},
   "outputs": [],
   "source": [
    "def loan_status(x):\n",
    "    if not(pd.isna(x)):\n",
    "        if (x=='Charged Off')|(x=='Default'):\n",
    "            a=1\n",
    "        else: a=0\n",
    "    return a\n",
    "\n",
    "LC_use['Default'] = LC_use.apply(lambda x:\n",
    "                                 loan_status(x['loan_status']), axis = 1)"
   ]
  },
  {
   "cell_type": "code",
   "execution_count": 21,
   "metadata": {},
   "outputs": [
    {
     "data": {
      "text/plain": [
       "['Individual', 'Joint App']"
      ]
     },
     "execution_count": 21,
     "metadata": {},
     "output_type": "execute_result"
    }
   ],
   "source": [
    "# 'application_type'\n",
    "pd.unique(LC_use['application_type'].values.ravel()).tolist()"
   ]
  },
  {
   "cell_type": "code",
   "execution_count": 22,
   "metadata": {},
   "outputs": [],
   "source": [
    "def app(x):\n",
    "    if not(pd.isna(x)):\n",
    "        if x=='Individual':\n",
    "            a=2\n",
    "        else: a=1\n",
    "    return a\n",
    "\n",
    "LC_use['application_type'] = LC_use.apply(lambda x:\n",
    "                                          app(x['application_type']),axis = 1)"
   ]
  },
  {
   "cell_type": "code",
   "execution_count": 23,
   "metadata": {},
   "outputs": [
    {
     "data": {
      "text/plain": [
       "['N', 'Y']"
      ]
     },
     "execution_count": 23,
     "metadata": {},
     "output_type": "execute_result"
    }
   ],
   "source": [
    "# 'hardship_flag'\n",
    "pd.unique(LC_use['hardship_flag'].values.ravel()).tolist()"
   ]
  },
  {
   "cell_type": "code",
   "execution_count": 24,
   "metadata": {},
   "outputs": [],
   "source": [
    "def hardship(x):\n",
    "    if not(pd.isna(x)):\n",
    "        if x=='Y':\n",
    "            a=1\n",
    "        else: a=0\n",
    "    return a\n",
    "\n",
    "LC_use['hardship_flag'] = LC_use.apply(lambda x:\n",
    "                                       hardship(x['hardship_flag']),axis = 1)"
   ]
  },
  {
   "cell_type": "code",
   "execution_count": 25,
   "metadata": {},
   "outputs": [
    {
     "data": {
      "text/plain": [
       "['N', 'Y']"
      ]
     },
     "execution_count": 25,
     "metadata": {},
     "output_type": "execute_result"
    }
   ],
   "source": [
    "# 'debt_settlement_flag'\n",
    "pd.unique(LC_use['debt_settlement_flag'].values.ravel()).tolist()"
   ]
  },
  {
   "cell_type": "code",
   "execution_count": 26,
   "metadata": {},
   "outputs": [],
   "source": [
    "def debtset(x):\n",
    "    if not(pd.isna(x)):\n",
    "        if x=='N':\n",
    "            a=1\n",
    "        else: a=0\n",
    "    return a\n",
    "\n",
    "LC_use['debt_settlement_flag'] = LC_use.apply(lambda x:\n",
    "                                              debtset(x['debt_settlement_flag']),axis = 1)"
   ]
  },
  {
   "cell_type": "code",
   "execution_count": 27,
   "metadata": {},
   "outputs": [
    {
     "data": {
      "text/html": [
       "<div>\n",
       "<style scoped>\n",
       "    .dataframe tbody tr th:only-of-type {\n",
       "        vertical-align: middle;\n",
       "    }\n",
       "\n",
       "    .dataframe tbody tr th {\n",
       "        vertical-align: top;\n",
       "    }\n",
       "\n",
       "    .dataframe thead th {\n",
       "        text-align: right;\n",
       "    }\n",
       "</style>\n",
       "<table border=\"1\" class=\"dataframe\">\n",
       "  <thead>\n",
       "    <tr style=\"text-align: right;\">\n",
       "      <th></th>\n",
       "      <th>loan_amnt</th>\n",
       "      <th>term</th>\n",
       "      <th>int_rate</th>\n",
       "      <th>emp_length</th>\n",
       "      <th>home_ownership</th>\n",
       "      <th>annual_inc</th>\n",
       "      <th>issue_d</th>\n",
       "      <th>loan_status</th>\n",
       "      <th>pymnt_plan</th>\n",
       "      <th>dti</th>\n",
       "      <th>delinq_2yrs</th>\n",
       "      <th>fico_range_low</th>\n",
       "      <th>inq_last_6mths</th>\n",
       "      <th>open_acc</th>\n",
       "      <th>pub_rec</th>\n",
       "      <th>revol_bal</th>\n",
       "      <th>revol_util</th>\n",
       "      <th>total_acc</th>\n",
       "      <th>out_prncp</th>\n",
       "      <th>total_rec_prncp</th>\n",
       "      <th>total_rec_late_fee</th>\n",
       "      <th>recoveries</th>\n",
       "      <th>collection_recovery_fee</th>\n",
       "      <th>last_pymnt_amnt</th>\n",
       "      <th>last_fico_range_high</th>\n",
       "      <th>collections_12_mths_ex_med</th>\n",
       "      <th>application_type</th>\n",
       "      <th>acc_now_delinq</th>\n",
       "      <th>tot_coll_amt</th>\n",
       "      <th>tot_cur_bal</th>\n",
       "      <th>acc_open_past_24mths</th>\n",
       "      <th>bc_open_to_buy</th>\n",
       "      <th>chargeoff_within_12_mths</th>\n",
       "      <th>delinq_amnt</th>\n",
       "      <th>mo_sin_old_il_acct</th>\n",
       "      <th>mo_sin_old_rev_tl_op</th>\n",
       "      <th>mo_sin_rcnt_rev_tl_op</th>\n",
       "      <th>mo_sin_rcnt_tl</th>\n",
       "      <th>mort_acc</th>\n",
       "      <th>mths_since_recent_bc</th>\n",
       "      <th>mths_since_recent_inq</th>\n",
       "      <th>num_accts_ever_120_pd</th>\n",
       "      <th>num_actv_bc_tl</th>\n",
       "      <th>num_bc_tl</th>\n",
       "      <th>num_tl_120dpd_2m</th>\n",
       "      <th>num_tl_30dpd</th>\n",
       "      <th>num_tl_90g_dpd_24m</th>\n",
       "      <th>num_tl_op_past_12m</th>\n",
       "      <th>pct_tl_nvr_dlq</th>\n",
       "      <th>pub_rec_bankruptcies</th>\n",
       "      <th>tax_liens</th>\n",
       "      <th>total_bal_ex_mort</th>\n",
       "      <th>hardship_flag</th>\n",
       "      <th>debt_settlement_flag</th>\n",
       "      <th>Default</th>\n",
       "    </tr>\n",
       "  </thead>\n",
       "  <tbody>\n",
       "    <tr>\n",
       "      <th>2253821</th>\n",
       "      <td>1500.0</td>\n",
       "      <td>36</td>\n",
       "      <td>13.49</td>\n",
       "      <td>2.0</td>\n",
       "      <td>3.0</td>\n",
       "      <td>50000.0</td>\n",
       "      <td>Oct-2016</td>\n",
       "      <td>Current</td>\n",
       "      <td>1</td>\n",
       "      <td>21.89</td>\n",
       "      <td>0.0</td>\n",
       "      <td>685.0</td>\n",
       "      <td>0.0</td>\n",
       "      <td>8.0</td>\n",
       "      <td>0.0</td>\n",
       "      <td>6871.0</td>\n",
       "      <td>67.4</td>\n",
       "      <td>10.0</td>\n",
       "      <td>340.63</td>\n",
       "      <td>1159.37</td>\n",
       "      <td>0.0</td>\n",
       "      <td>0.0</td>\n",
       "      <td>0.0</td>\n",
       "      <td>50.90</td>\n",
       "      <td>724.0</td>\n",
       "      <td>0.0</td>\n",
       "      <td>2</td>\n",
       "      <td>0.0</td>\n",
       "      <td>0.0</td>\n",
       "      <td>198115.0</td>\n",
       "      <td>3.0</td>\n",
       "      <td>829.0</td>\n",
       "      <td>0.0</td>\n",
       "      <td>0.0</td>\n",
       "      <td>105.0</td>\n",
       "      <td>49.0</td>\n",
       "      <td>3.0</td>\n",
       "      <td>3.0</td>\n",
       "      <td>1.0</td>\n",
       "      <td>27.0</td>\n",
       "      <td>23.0</td>\n",
       "      <td>0.0</td>\n",
       "      <td>3.0</td>\n",
       "      <td>3.0</td>\n",
       "      <td>0.0</td>\n",
       "      <td>0.0</td>\n",
       "      <td>0.0</td>\n",
       "      <td>2.0</td>\n",
       "      <td>100.0</td>\n",
       "      <td>0.0</td>\n",
       "      <td>0.0</td>\n",
       "      <td>37629.0</td>\n",
       "      <td>0</td>\n",
       "      <td>1</td>\n",
       "      <td>0</td>\n",
       "    </tr>\n",
       "    <tr>\n",
       "      <th>1946526</th>\n",
       "      <td>6500.0</td>\n",
       "      <td>36</td>\n",
       "      <td>9.49</td>\n",
       "      <td>7.0</td>\n",
       "      <td>3.0</td>\n",
       "      <td>50000.0</td>\n",
       "      <td>Sep-2016</td>\n",
       "      <td>Current</td>\n",
       "      <td>1</td>\n",
       "      <td>18.29</td>\n",
       "      <td>0.0</td>\n",
       "      <td>705.0</td>\n",
       "      <td>1.0</td>\n",
       "      <td>8.0</td>\n",
       "      <td>0.0</td>\n",
       "      <td>6106.0</td>\n",
       "      <td>34.9</td>\n",
       "      <td>9.0</td>\n",
       "      <td>1215.04</td>\n",
       "      <td>5284.96</td>\n",
       "      <td>0.0</td>\n",
       "      <td>0.0</td>\n",
       "      <td>0.0</td>\n",
       "      <td>208.19</td>\n",
       "      <td>679.0</td>\n",
       "      <td>0.0</td>\n",
       "      <td>2</td>\n",
       "      <td>0.0</td>\n",
       "      <td>0.0</td>\n",
       "      <td>52906.0</td>\n",
       "      <td>6.0</td>\n",
       "      <td>11394.0</td>\n",
       "      <td>0.0</td>\n",
       "      <td>0.0</td>\n",
       "      <td>39.0</td>\n",
       "      <td>47.0</td>\n",
       "      <td>12.0</td>\n",
       "      <td>10.0</td>\n",
       "      <td>0.0</td>\n",
       "      <td>12.0</td>\n",
       "      <td>6.0</td>\n",
       "      <td>0.0</td>\n",
       "      <td>3.0</td>\n",
       "      <td>3.0</td>\n",
       "      <td>0.0</td>\n",
       "      <td>0.0</td>\n",
       "      <td>0.0</td>\n",
       "      <td>3.0</td>\n",
       "      <td>100.0</td>\n",
       "      <td>0.0</td>\n",
       "      <td>0.0</td>\n",
       "      <td>52906.0</td>\n",
       "      <td>0</td>\n",
       "      <td>1</td>\n",
       "      <td>0</td>\n",
       "    </tr>\n",
       "    <tr>\n",
       "      <th>764988</th>\n",
       "      <td>4800.0</td>\n",
       "      <td>36</td>\n",
       "      <td>13.56</td>\n",
       "      <td>0.0</td>\n",
       "      <td>2.0</td>\n",
       "      <td>34500.0</td>\n",
       "      <td>Sep-2018</td>\n",
       "      <td>Current</td>\n",
       "      <td>1</td>\n",
       "      <td>22.33</td>\n",
       "      <td>0.0</td>\n",
       "      <td>685.0</td>\n",
       "      <td>0.0</td>\n",
       "      <td>11.0</td>\n",
       "      <td>0.0</td>\n",
       "      <td>19858.0</td>\n",
       "      <td>79.8</td>\n",
       "      <td>19.0</td>\n",
       "      <td>4128.53</td>\n",
       "      <td>671.47</td>\n",
       "      <td>0.0</td>\n",
       "      <td>0.0</td>\n",
       "      <td>0.0</td>\n",
       "      <td>163.03</td>\n",
       "      <td>664.0</td>\n",
       "      <td>0.0</td>\n",
       "      <td>1</td>\n",
       "      <td>0.0</td>\n",
       "      <td>0.0</td>\n",
       "      <td>127581.0</td>\n",
       "      <td>1.0</td>\n",
       "      <td>3237.0</td>\n",
       "      <td>0.0</td>\n",
       "      <td>0.0</td>\n",
       "      <td>145.0</td>\n",
       "      <td>42.0</td>\n",
       "      <td>32.0</td>\n",
       "      <td>18.0</td>\n",
       "      <td>1.0</td>\n",
       "      <td>32.0</td>\n",
       "      <td>19.0</td>\n",
       "      <td>0.0</td>\n",
       "      <td>4.0</td>\n",
       "      <td>5.0</td>\n",
       "      <td>0.0</td>\n",
       "      <td>0.0</td>\n",
       "      <td>0.0</td>\n",
       "      <td>0.0</td>\n",
       "      <td>100.0</td>\n",
       "      <td>0.0</td>\n",
       "      <td>0.0</td>\n",
       "      <td>19858.0</td>\n",
       "      <td>0</td>\n",
       "      <td>1</td>\n",
       "      <td>0</td>\n",
       "    </tr>\n",
       "    <tr>\n",
       "      <th>1611065</th>\n",
       "      <td>10000.0</td>\n",
       "      <td>36</td>\n",
       "      <td>20.39</td>\n",
       "      <td>0.0</td>\n",
       "      <td>3.0</td>\n",
       "      <td>119535.0</td>\n",
       "      <td>Apr-2018</td>\n",
       "      <td>Current</td>\n",
       "      <td>1</td>\n",
       "      <td>17.66</td>\n",
       "      <td>0.0</td>\n",
       "      <td>670.0</td>\n",
       "      <td>0.0</td>\n",
       "      <td>9.0</td>\n",
       "      <td>0.0</td>\n",
       "      <td>36645.0</td>\n",
       "      <td>94.4</td>\n",
       "      <td>13.0</td>\n",
       "      <td>7558.73</td>\n",
       "      <td>2441.27</td>\n",
       "      <td>0.0</td>\n",
       "      <td>0.0</td>\n",
       "      <td>0.0</td>\n",
       "      <td>373.63</td>\n",
       "      <td>594.0</td>\n",
       "      <td>0.0</td>\n",
       "      <td>2</td>\n",
       "      <td>0.0</td>\n",
       "      <td>0.0</td>\n",
       "      <td>327519.0</td>\n",
       "      <td>3.0</td>\n",
       "      <td>2155.0</td>\n",
       "      <td>0.0</td>\n",
       "      <td>0.0</td>\n",
       "      <td>171.0</td>\n",
       "      <td>99.0</td>\n",
       "      <td>1.0</td>\n",
       "      <td>1.0</td>\n",
       "      <td>2.0</td>\n",
       "      <td>1.0</td>\n",
       "      <td>21.0</td>\n",
       "      <td>0.0</td>\n",
       "      <td>7.0</td>\n",
       "      <td>7.0</td>\n",
       "      <td>0.0</td>\n",
       "      <td>0.0</td>\n",
       "      <td>0.0</td>\n",
       "      <td>1.0</td>\n",
       "      <td>100.0</td>\n",
       "      <td>0.0</td>\n",
       "      <td>0.0</td>\n",
       "      <td>47650.0</td>\n",
       "      <td>0</td>\n",
       "      <td>1</td>\n",
       "      <td>0</td>\n",
       "    </tr>\n",
       "    <tr>\n",
       "      <th>1479045</th>\n",
       "      <td>6350.0</td>\n",
       "      <td>36</td>\n",
       "      <td>23.40</td>\n",
       "      <td>2.0</td>\n",
       "      <td>2.0</td>\n",
       "      <td>70000.0</td>\n",
       "      <td>Oct-2018</td>\n",
       "      <td>Current</td>\n",
       "      <td>1</td>\n",
       "      <td>25.72</td>\n",
       "      <td>0.0</td>\n",
       "      <td>705.0</td>\n",
       "      <td>0.0</td>\n",
       "      <td>12.0</td>\n",
       "      <td>0.0</td>\n",
       "      <td>29375.0</td>\n",
       "      <td>74.0</td>\n",
       "      <td>24.0</td>\n",
       "      <td>5708.91</td>\n",
       "      <td>641.09</td>\n",
       "      <td>0.0</td>\n",
       "      <td>0.0</td>\n",
       "      <td>0.0</td>\n",
       "      <td>247.14</td>\n",
       "      <td>699.0</td>\n",
       "      <td>0.0</td>\n",
       "      <td>1</td>\n",
       "      <td>0.0</td>\n",
       "      <td>0.0</td>\n",
       "      <td>457122.0</td>\n",
       "      <td>4.0</td>\n",
       "      <td>2043.0</td>\n",
       "      <td>0.0</td>\n",
       "      <td>0.0</td>\n",
       "      <td>160.0</td>\n",
       "      <td>359.0</td>\n",
       "      <td>2.0</td>\n",
       "      <td>2.0</td>\n",
       "      <td>7.0</td>\n",
       "      <td>2.0</td>\n",
       "      <td>22.0</td>\n",
       "      <td>0.0</td>\n",
       "      <td>5.0</td>\n",
       "      <td>7.0</td>\n",
       "      <td>0.0</td>\n",
       "      <td>0.0</td>\n",
       "      <td>0.0</td>\n",
       "      <td>1.0</td>\n",
       "      <td>100.0</td>\n",
       "      <td>0.0</td>\n",
       "      <td>0.0</td>\n",
       "      <td>42092.0</td>\n",
       "      <td>0</td>\n",
       "      <td>1</td>\n",
       "      <td>0</td>\n",
       "    </tr>\n",
       "  </tbody>\n",
       "</table>\n",
       "</div>"
      ],
      "text/plain": [
       "         loan_amnt  term  int_rate  emp_length  home_ownership  annual_inc   issue_d loan_status  pymnt_plan    dti  delinq_2yrs  fico_range_low  inq_last_6mths  open_acc  pub_rec  revol_bal  revol_util  total_acc  out_prncp  total_rec_prncp  total_rec_late_fee  recoveries  collection_recovery_fee  last_pymnt_amnt  last_fico_range_high  collections_12_mths_ex_med  application_type  acc_now_delinq  tot_coll_amt  tot_cur_bal  acc_open_past_24mths  bc_open_to_buy  chargeoff_within_12_mths  delinq_amnt  mo_sin_old_il_acct  mo_sin_old_rev_tl_op  mo_sin_rcnt_rev_tl_op  mo_sin_rcnt_tl  mort_acc  mths_since_recent_bc  mths_since_recent_inq  num_accts_ever_120_pd  num_actv_bc_tl  num_bc_tl  num_tl_120dpd_2m  num_tl_30dpd  num_tl_90g_dpd_24m  num_tl_op_past_12m  pct_tl_nvr_dlq  pub_rec_bankruptcies  tax_liens  total_bal_ex_mort  hardship_flag  debt_settlement_flag  Default\n",
       "2253821     1500.0    36     13.49         2.0             3.0     50000.0  Oct-2016     Current           1  21.89          0.0           685.0             0.0       8.0      0.0     6871.0        67.4       10.0     340.63          1159.37                 0.0         0.0                      0.0            50.90                 724.0                         0.0                 2             0.0           0.0     198115.0                   3.0           829.0                       0.0          0.0               105.0                  49.0                    3.0             3.0       1.0                  27.0                   23.0                    0.0             3.0        3.0               0.0           0.0                 0.0                 2.0           100.0                   0.0        0.0            37629.0              0                     1        0\n",
       "1946526     6500.0    36      9.49         7.0             3.0     50000.0  Sep-2016     Current           1  18.29          0.0           705.0             1.0       8.0      0.0     6106.0        34.9        9.0    1215.04          5284.96                 0.0         0.0                      0.0           208.19                 679.0                         0.0                 2             0.0           0.0      52906.0                   6.0         11394.0                       0.0          0.0                39.0                  47.0                   12.0            10.0       0.0                  12.0                    6.0                    0.0             3.0        3.0               0.0           0.0                 0.0                 3.0           100.0                   0.0        0.0            52906.0              0                     1        0\n",
       "764988      4800.0    36     13.56         0.0             2.0     34500.0  Sep-2018     Current           1  22.33          0.0           685.0             0.0      11.0      0.0    19858.0        79.8       19.0    4128.53           671.47                 0.0         0.0                      0.0           163.03                 664.0                         0.0                 1             0.0           0.0     127581.0                   1.0          3237.0                       0.0          0.0               145.0                  42.0                   32.0            18.0       1.0                  32.0                   19.0                    0.0             4.0        5.0               0.0           0.0                 0.0                 0.0           100.0                   0.0        0.0            19858.0              0                     1        0\n",
       "1611065    10000.0    36     20.39         0.0             3.0    119535.0  Apr-2018     Current           1  17.66          0.0           670.0             0.0       9.0      0.0    36645.0        94.4       13.0    7558.73          2441.27                 0.0         0.0                      0.0           373.63                 594.0                         0.0                 2             0.0           0.0     327519.0                   3.0          2155.0                       0.0          0.0               171.0                  99.0                    1.0             1.0       2.0                   1.0                   21.0                    0.0             7.0        7.0               0.0           0.0                 0.0                 1.0           100.0                   0.0        0.0            47650.0              0                     1        0\n",
       "1479045     6350.0    36     23.40         2.0             2.0     70000.0  Oct-2018     Current           1  25.72          0.0           705.0             0.0      12.0      0.0    29375.0        74.0       24.0    5708.91           641.09                 0.0         0.0                      0.0           247.14                 699.0                         0.0                 1             0.0           0.0     457122.0                   4.0          2043.0                       0.0          0.0               160.0                 359.0                    2.0             2.0       7.0                   2.0                   22.0                    0.0             5.0        7.0               0.0           0.0                 0.0                 1.0           100.0                   0.0        0.0            42092.0              0                     1        0"
      ]
     },
     "execution_count": 27,
     "metadata": {},
     "output_type": "execute_result"
    }
   ],
   "source": [
    "LC_use.head()"
   ]
  },
  {
   "cell_type": "code",
   "execution_count": 28,
   "metadata": {},
   "outputs": [],
   "source": [
    "LC_use = LC_use.drop(['issue_d', 'loan_status'], axis = 1)"
   ]
  },
  {
   "cell_type": "code",
   "execution_count": null,
   "metadata": {},
   "outputs": [],
   "source": []
  },
  {
   "cell_type": "markdown",
   "metadata": {},
   "source": [
    "### LGD model"
   ]
  },
  {
   "cell_type": "code",
   "execution_count": 29,
   "metadata": {},
   "outputs": [],
   "source": [
    "LC = LC_use"
   ]
  },
  {
   "cell_type": "code",
   "execution_count": 30,
   "metadata": {},
   "outputs": [],
   "source": [
    "def wLGD(r,a,d,p):\n",
    "    if not(pd.isna(d)):\n",
    "        if d==1 and a-p != 0:\n",
    "            LGD = 1 - (r/(a-p))\n",
    "        else:\n",
    "            LGD = 0\n",
    "        return(LGD)\n",
    "\n",
    "LC['wLGD'] = LC.apply(lambda x:\n",
    "                     wLGD(x['recoveries'], x['loan_amnt'],\n",
    "                     x['Default'], x['total_rec_prncp']), axis=1)"
   ]
  },
  {
   "cell_type": "code",
   "execution_count": 31,
   "metadata": {},
   "outputs": [],
   "source": [
    "c2 = LC.corr().abs()\n",
    "upper2 = c2.where(np.triu(np.ones(c2.shape), k=1).astype(np.bool))\n",
    "to_drop3 = [column for column in upper2.columns if any(upper2[column] > 0.7)]\n",
    "to_drop3.remove('wLGD')\n",
    "LC = LC.drop(LC[to_drop3], axis = 1)\n",
    "LC = LC.drop(['recoveries','loan_amnt','total_rec_prncp', \n",
    "              'collection_recovery_fee'], axis = 1)"
   ]
  },
  {
   "cell_type": "code",
   "execution_count": 33,
   "metadata": {},
   "outputs": [],
   "source": [
    "# Split default and non-default data\n",
    "# Split train and test data - 70%\n",
    "Def_data = LC.loc[(LC['Default']==1)]\n",
    "NonDef_data = LC.loc[(LC['Default']==0)]\n",
    "\n",
    "Def_data = Def_data.drop(['Default'], axis = 1)\n",
    "NonDef_data = NonDef_data.drop(['Default'], axis = 1)\n",
    "\n",
    "import scorecardpy as sc\n",
    "train_wLGD, test_wLGD = sc.split_df(Def_data.iloc[:,1:],\n",
    "                                   y = 'wLGD',\n",
    "                                   ratio = 0.7,\n",
    "                                   seed = 251053881).values()"
   ]
  },
  {
   "cell_type": "code",
   "execution_count": 34,
   "metadata": {},
   "outputs": [],
   "source": [
    "# Random Forests\n",
    "from sklearn.ensemble import RandomForestRegressor\n",
    "bankloan_rf = RandomForestRegressor(n_estimators=1000, # Number of trees to train\n",
    "                       criterion='mse', \n",
    "                       max_depth=None, \n",
    "                       min_samples_split=2, \n",
    "                       min_samples_leaf=0.001, # 0.1%\n",
    "                       min_weight_fraction_leaf=0.0, \n",
    "                       max_features='auto', \n",
    "                       max_leaf_nodes=None, \n",
    "                       min_impurity_decrease=0.0001, # 10^(-3)\n",
    "                       bootstrap=True, \n",
    "                       oob_score=True,  \n",
    "                       n_jobs=-1, \n",
    "                       random_state=251053881, # Seed\n",
    "                       verbose=1, # 0 for silent training.\n",
    "                       warm_start=False)"
   ]
  },
  {
   "cell_type": "code",
   "execution_count": 35,
   "metadata": {},
   "outputs": [
    {
     "name": "stderr",
     "output_type": "stream",
     "text": [
      "[Parallel(n_jobs=-1)]: Using backend ThreadingBackend with 4 concurrent workers.\n",
      "[Parallel(n_jobs=-1)]: Done  42 tasks      | elapsed:    0.1s\n",
      "[Parallel(n_jobs=-1)]: Done 192 tasks      | elapsed:    0.2s\n",
      "[Parallel(n_jobs=-1)]: Done 442 tasks      | elapsed:    0.5s\n",
      "[Parallel(n_jobs=-1)]: Done 792 tasks      | elapsed:    0.9s\n",
      "[Parallel(n_jobs=-1)]: Done 1000 out of 1000 | elapsed:    1.1s finished\n"
     ]
    },
    {
     "data": {
      "text/plain": [
       "RandomForestRegressor(bootstrap=True, criterion='mse', max_depth=None,\n",
       "                      max_features='auto', max_leaf_nodes=None,\n",
       "                      min_impurity_decrease=0.0001, min_impurity_split=None,\n",
       "                      min_samples_leaf=0.001, min_samples_split=2,\n",
       "                      min_weight_fraction_leaf=0.0, n_estimators=1000,\n",
       "                      n_jobs=-1, oob_score=True, random_state=251053881,\n",
       "                      verbose=1, warm_start=False)"
      ]
     },
     "execution_count": 35,
     "metadata": {},
     "output_type": "execute_result"
    }
   ],
   "source": [
    "bankloan_rf.fit(train_wLGD.iloc[:,:-1],\n",
    "                train_wLGD['wLGD'])"
   ]
  },
  {
   "cell_type": "code",
   "execution_count": 36,
   "metadata": {},
   "outputs": [
    {
     "name": "stderr",
     "output_type": "stream",
     "text": [
      "[Parallel(n_jobs=4)]: Using backend ThreadingBackend with 4 concurrent workers.\n",
      "[Parallel(n_jobs=4)]: Done  42 tasks      | elapsed:    0.0s\n",
      "[Parallel(n_jobs=4)]: Done 192 tasks      | elapsed:    0.0s\n",
      "[Parallel(n_jobs=4)]: Done 442 tasks      | elapsed:    0.1s\n",
      "[Parallel(n_jobs=4)]: Done 792 tasks      | elapsed:    0.1s\n",
      "[Parallel(n_jobs=4)]: Done 1000 out of 1000 | elapsed:    0.2s finished\n"
     ]
    },
    {
     "data": {
      "text/plain": [
       "0.1437332408390477"
      ]
     },
     "execution_count": 36,
     "metadata": {},
     "output_type": "execute_result"
    }
   ],
   "source": [
    "bankloan_rf.score(train_wLGD.iloc[:,:-1],\n",
    "                  train_wLGD['wLGD'])"
   ]
  },
  {
   "cell_type": "code",
   "execution_count": 37,
   "metadata": {},
   "outputs": [
    {
     "name": "stderr",
     "output_type": "stream",
     "text": [
      "[Parallel(n_jobs=4)]: Using backend ThreadingBackend with 4 concurrent workers.\n",
      "[Parallel(n_jobs=4)]: Done  42 tasks      | elapsed:    0.0s\n",
      "[Parallel(n_jobs=4)]: Done 192 tasks      | elapsed:    0.0s\n",
      "[Parallel(n_jobs=4)]: Done 442 tasks      | elapsed:    0.1s\n",
      "[Parallel(n_jobs=4)]: Done 792 tasks      | elapsed:    0.1s\n",
      "[Parallel(n_jobs=4)]: Done 1000 out of 1000 | elapsed:    0.1s finished\n"
     ]
    }
   ],
   "source": [
    "rf_pred_LGD = bankloan_rf.predict(test_wLGD.iloc[:,:-1])"
   ]
  },
  {
   "cell_type": "code",
   "execution_count": 40,
   "metadata": {},
   "outputs": [
    {
     "data": {
      "text/plain": [
       "1.5075916150361904e-05"
      ]
     },
     "execution_count": 40,
     "metadata": {},
     "output_type": "execute_result"
    }
   ],
   "source": [
    "# Calculate MSE\n",
    "from sklearn.metrics import mean_squared_error\n",
    "mean_squared_error(test_wLGD.iloc[:,-1], rf_pred_LGD)"
   ]
  },
  {
   "cell_type": "code",
   "execution_count": null,
   "metadata": {},
   "outputs": [],
   "source": []
  },
  {
   "cell_type": "code",
   "execution_count": 41,
   "metadata": {},
   "outputs": [],
   "source": [
    "# XGBoosting\n",
    "from sklearn.ensemble import GradientBoostingRegressor \n",
    "bankloan_xg = GradientBoostingRegressor(loss='ls', \n",
    "                                        learning_rate=0.1, \n",
    "                                        subsample=1, \n",
    "                                        min_samples_split=2,\n",
    "                                        min_samples_leaf=1, \n",
    "                                        min_weight_fraction_leaf=0.0, \n",
    "                                        max_depth=3, \n",
    "                                        init=None, \n",
    "                                        verbose=1, \n",
    "                                        validation_fraction=0.3, \n",
    "                                        tol=0.0001 )"
   ]
  },
  {
   "cell_type": "code",
   "execution_count": 43,
   "metadata": {},
   "outputs": [
    {
     "data": {
      "text/plain": [
       "0.9996670103634684"
      ]
     },
     "execution_count": 43,
     "metadata": {},
     "output_type": "execute_result"
    }
   ],
   "source": [
    "bankloan_xg.score(train_wLGD.iloc[:,:-1], \n",
    "                  train_wLGD['wLGD'])"
   ]
  },
  {
   "cell_type": "code",
   "execution_count": 44,
   "metadata": {},
   "outputs": [
    {
     "data": {
      "text/plain": [
       "1.5075916150361904e-05"
      ]
     },
     "execution_count": 44,
     "metadata": {},
     "output_type": "execute_result"
    }
   ],
   "source": [
    "# MSE\n",
    "xg_pred_LGD = bankloan_xg.predict(test_wLGD.iloc[:,:-1])\n",
    "mean_squared_error(test_wLGD.iloc[:,-1], rf_pred_LGD)"
   ]
  },
  {
   "cell_type": "code",
   "execution_count": null,
   "metadata": {},
   "outputs": [],
   "source": []
  }
 ],
 "metadata": {
  "kernelspec": {
   "display_name": "Python 3",
   "language": "python",
   "name": "python3"
  },
  "language_info": {
   "codemirror_mode": {
    "name": "ipython",
    "version": 3
   },
   "file_extension": ".py",
   "mimetype": "text/x-python",
   "name": "python",
   "nbconvert_exporter": "python",
   "pygments_lexer": "ipython3",
   "version": "3.7.3"
  }
 },
 "nbformat": 4,
 "nbformat_minor": 2
}
