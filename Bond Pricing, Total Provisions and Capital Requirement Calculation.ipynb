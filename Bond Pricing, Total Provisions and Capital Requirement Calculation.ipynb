{
 "cells": [
  {
   "cell_type": "markdown",
   "metadata": {},
   "source": [
    "### Bond Pricing\n",
    "(Bond yields are at Oct 10, 2019)"
   ]
  },
  {
   "cell_type": "markdown",
   "metadata": {},
   "source": [
    "1-3 year: 1.55%; 3-5 year: 1.42%;  5-10 year:1.40%;  over 10 year: 1.56%"
   ]
  },
  {
   "cell_type": "code",
   "execution_count": 1,
   "metadata": {},
   "outputs": [],
   "source": [
    "# Imports\n",
    "import numpy as np\n",
    "import pandas as pd"
   ]
  },
  {
   "cell_type": "code",
   "execution_count": 4,
   "metadata": {},
   "outputs": [],
   "source": [
    "Bond = pd.read_excel(r'/Users/regina/Documents/UWO/Banking Analytics/Dataset.xlsx',\n",
    "                     sheet_name = 'Bond')\n",
    "\n",
    "def Bond_price(X,C,t): # principal, coupon, maturity\n",
    "    # parameter - bond yields\n",
    "    if t <= 3:\n",
    "        r = 0.0155\n",
    "    elif t <= 5:\n",
    "        r = 0.0142\n",
    "    elif t <= 10:\n",
    "        r = 0.0140\n",
    "    else:\n",
    "        r = 0.0156\n",
    "        \n",
    "    # payment sequence\n",
    "    payment_series = np.repeat(C*X/100, int(t)+1)\n",
    "    payment_series[0] -= C*X/100\n",
    "    payment_series[int(t)] += X\n",
    "    \n",
    "    # pv cal\n",
    "    price = np.npv(r, payment_series)*(1+r)**(t-int(t))\n",
    "    return(price)\n",
    "\n",
    "# Calculation\n",
    "Bond['Price'] = Bond.apply(lambda x: \n",
    "                           Bond_price(x['Principal'], x['YearlyRate'], x['Time2Maturity']),\n",
    "                           axis = 1)"
   ]
  },
  {
   "cell_type": "markdown",
   "metadata": {},
   "source": [
    "### Total provisions and capital requirement each operation brings"
   ]
  },
  {
   "cell_type": "code",
   "execution_count": 6,
   "metadata": {},
   "outputs": [
    {
     "name": "stdout",
     "output_type": "stream",
     "text": [
      "5943805883.418894\n"
     ]
    }
   ],
   "source": [
    "# Bond - provision\n",
    "Bond['LGD'] = 0.45 # under fundational approach\n",
    "\n",
    "def provision_bond(PD, LGD, EAD, N):\n",
    "    P = PD*LGD*EAD*N\n",
    "    return(P)\n",
    "\n",
    "# PD floor 0.03%\n",
    "Bond['EL'] = Bond.apply(lambda x:\n",
    "                        provision_bond(max(0.0003, x['PD']), x['LGD'], x['Price']/100, x['BondsHeld']),\n",
    "                        axis = 1)\n",
    "total_provision_bond = sum(Bond['EL'])\n",
    "\n",
    "print(total_provision_bond)"
   ]
  },
  {
   "cell_type": "code",
   "execution_count": 12,
   "metadata": {},
   "outputs": [],
   "source": [
    "# Bond - capital requirement\n",
    "def capital_requirement_bond(PD, LGD, M):\n",
    "    from scipy.stats import norm\n",
    "    b = (0.11852 - 0.05478*np.log(PD))**2\n",
    "    R = 0.12*((1 - np.exp(-50*PD))/(1 - np.exp(-50)))\n",
    "    R += 0.24*(1 - ((1 - np.exp(-50*PD))/(1 - np.exp(-50))))   \n",
    "    \n",
    "    K = norm.cdf(np.sqrt((1-R)**(-1))*norm.ppf(PD)+\n",
    "                np.sqrt(R/(1-R))*norm.ppf(0.999)) - PD\n",
    "    K *= LGD\n",
    "    K *= (1 + (M-2.5)*b)/(1 - 1.5*b)\n",
    "    return(K)\n",
    "               \n",
    "Bond['CapReq'] = Bond.apply(lambda x:\n",
    "                            capital_requirement_bond(max(0.0003, x['PD']), x['LGD'], x['Time2Maturity']), axis=1)"
   ]
  },
  {
   "cell_type": "code",
   "execution_count": 13,
   "metadata": {},
   "outputs": [
    {
     "name": "stdout",
     "output_type": "stream",
     "text": [
      "12100429777.37518\n"
     ]
    }
   ],
   "source": [
    "# Bond - regulatory capital\n",
    "Bond['Total'] = Bond['Price'] * Bond['BondsHeld']/100 \n",
    "RWA_bond = 12.5 * np.dot(Bond['CapReq'], Bond['Total']) \n",
    "RegCap_bond = 0.115 * RWA_bond\n",
    "\n",
    "print(RegCap_bond)"
   ]
  },
  {
   "cell_type": "code",
   "execution_count": 30,
   "metadata": {},
   "outputs": [
    {
     "name": "stdout",
     "output_type": "stream",
     "text": [
      "37085132.433954544\n"
     ]
    }
   ],
   "source": [
    "# RetailLoan - provision\n",
    "RetailLoan = pd.read_excel(r'/Users/regina/Documents/UWO/Banking Analytics/Dataset.xlsx',\n",
    "                           sheet_name = 'RetailLoan')\n",
    "\n",
    "RetailLoan['EAD'] = RetailLoan.apply(lambda x: OutstandingAmount(x['YearlyInterestRate'],\n",
    "                                                                 x['Term'],\n",
    "                                                                 x['OriginalAmount'],\n",
    "                                                                 x['CurrentInstallment']),axis=1)\n",
    "\n",
    "def provision_RL(PD,EAD):\n",
    "    P = PD * EAD   # LGD=100% \n",
    "    return(P)\n",
    "\n",
    "RetailLoan['EL'] = RetailLoan.apply(lambda x: provision_RL(max(0.0003, x['PD']), x['EAD']), axis=1)\n",
    "                                                                                   \n",
    "total_provision_RL = sum(RetailLoan['EL'])\n",
    "print(total_provision_RL)"
   ]
  },
  {
   "cell_type": "code",
   "execution_count": 31,
   "metadata": {},
   "outputs": [],
   "source": [
    "# RetailLoan - capital requirement\n",
    "def capital_requirement_RL(PD,LGD): # M=1\n",
    "    from scipy.stats import norm\n",
    "    R = 0.03 * ( (1 - np.exp(-35*PD))/(1 - np.exp(-35)))\n",
    "    R += 0.16 * (1 - ((1 - np.exp(-35*PD))/(1 - np.exp(-35)))) \n",
    "    K = norm.cdf(np.sqrt((1 - R)**(-1))*norm.ppf(PD) +\n",
    "                 np.sqrt(R/(1 - R))*norm.ppf(0.999)) - PD\n",
    "    K *= LGD \n",
    "    return(K)\n",
    "\n",
    "RetailLoan['LGD'] = 1\n",
    "RetailLoan['CapReq'] = RetailLoan.apply(lambda x:\n",
    "                                        capital_requirement_RL(max(0.0003, x['PD']), x['LGD']), axis=1)"
   ]
  },
  {
   "cell_type": "code",
   "execution_count": 32,
   "metadata": {},
   "outputs": [
    {
     "name": "stdout",
     "output_type": "stream",
     "text": [
      "26677899.2838548\n"
     ]
    }
   ],
   "source": [
    "# RetailLoan - regulatory capital\n",
    "RWA_RL = 12.5 * np.dot(RetailLoan['CapReq'], RetailLoan['EAD']) \n",
    "RegCap_RL = 0.115 * RWA_RL\n",
    "\n",
    "print(RegCap_RL)"
   ]
  },
  {
   "cell_type": "code",
   "execution_count": 34,
   "metadata": {},
   "outputs": [
    {
     "name": "stdout",
     "output_type": "stream",
     "text": [
      "Total provision of bond is 5943805883.418894\n",
      "Total provision of retail loan is 37085132.433954544\n",
      "Total regulatory capital of bond is 12100429777.37518\n",
      "Total regulatory capital of retail loan is 26677899.2838548\n",
      "Total provision is 5980891015.852848\n",
      "Total regulatory capital is 12127107676.659035\n"
     ]
    }
   ],
   "source": [
    "# Total\n",
    "Total_provision = total_provision_bond + total_provision_RL\n",
    "Total_RegCap = RegCap_bond + RegCap_RL\n",
    "\n",
    "# Print results\n",
    "print(\"Total provision of bond is\",total_provision_bond)\n",
    "print(\"Total provision of retail loan is\",total_provision_RL)\n",
    "print(\"Total regulatory capital of bond is\",RegCap_bond)\n",
    "print(\"Total regulatory capital of retail loan is\",RegCap_RL)\n",
    "print(\"Total provision is\",Total_provision)\n",
    "print(\"Total regulatory capital is\",Total_RegCap)"
   ]
  },
  {
   "cell_type": "code",
   "execution_count": null,
   "metadata": {},
   "outputs": [],
   "source": []
  }
 ],
 "metadata": {
  "kernelspec": {
   "display_name": "Python 3",
   "language": "python",
   "name": "python3"
  },
  "language_info": {
   "codemirror_mode": {
    "name": "ipython",
    "version": 3
   },
   "file_extension": ".py",
   "mimetype": "text/x-python",
   "name": "python",
   "nbconvert_exporter": "python",
   "pygments_lexer": "ipython3",
   "version": "3.7.3"
  }
 },
 "nbformat": 4,
 "nbformat_minor": 2
}
